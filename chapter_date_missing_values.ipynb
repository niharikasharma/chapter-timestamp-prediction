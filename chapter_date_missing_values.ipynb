{
 "cells": [
  {
   "cell_type": "code",
   "execution_count": 1,
   "metadata": {
    "collapsed": true
   },
   "outputs": [],
   "source": [
    "import pandas as pd\n",
    "%matplotlib inline\n",
    "\n",
    "import matplotlib\n",
    "import numpy as np\n",
    "import matplotlib.pyplot as plt"
   ]
  },
  {
   "cell_type": "code",
   "execution_count": 2,
   "metadata": {
    "collapsed": true
   },
   "outputs": [],
   "source": [
    "stories = pd.read_csv('story_10k_authors.csv')\n",
    "chapters = pd.read_csv('chapter_10k_authors.csv')\n",
    "reviews = pd.read_csv('review_10k_authors.csv')\n",
    "reviews_received = pd.read_csv('review_10k_authors_received.csv')\n",
    "reviews_sent = pd.read_csv('review_10k_authors_sent.csv')"
   ]
  },
  {
   "cell_type": "code",
   "execution_count": 3,
   "metadata": {
    "collapsed": false
   },
   "outputs": [
    {
     "name": "stderr",
     "output_type": "stream",
     "text": [
      "b'Skipping line 846594: expected 15 fields, saw 16\\n'\n",
      "b'Skipping line 921885: expected 15 fields, saw 17\\nSkipping line 944703: expected 15 fields, saw 16\\n'\n",
      "b'Skipping line 1432931: expected 15 fields, saw 16\\n'\n",
      "b'Skipping line 2681587: expected 15 fields, saw 16\\n'\n",
      "b'Skipping line 2714733: expected 15 fields, saw 16\\nSkipping line 2722010: expected 15 fields, saw 17\\n'\n",
      "b'Skipping line 2873331: expected 15 fields, saw 16\\nSkipping line 2877823: expected 15 fields, saw 16\\n'\n",
      "b'Skipping line 3163468: expected 15 fields, saw 16\\n'\n",
      "b'Skipping line 4059418: expected 15 fields, saw 16\\n'\n",
      "b'Skipping line 4106282: expected 15 fields, saw 16\\nSkipping line 4108099: expected 15 fields, saw 16\\n'\n",
      "b'Skipping line 4368618: expected 15 fields, saw 16\\nSkipping line 4369413: expected 15 fields, saw 17\\n'\n",
      "b'Skipping line 4951246: expected 15 fields, saw 16\\nSkipping line 4978213: expected 15 fields, saw 16\\n'\n",
      "b'Skipping line 5660786: expected 15 fields, saw 17\\n'\n",
      "b'Skipping line 6070843: expected 15 fields, saw 16\\n'\n",
      "b'Skipping line 6563982: expected 15 fields, saw 16\\n'\n"
     ]
    },
    {
     "name": "stdout",
     "output_type": "stream",
     "text": [
      "(6828922, 15)\n"
     ]
    }
   ],
   "source": [
    "story_df = pd.read_csv('story.csv', error_bad_lines=False)\n",
    "story_df.columns = ['id', 'fandom_id', 'user_id', 'rating_id', 'language_id', 'ff_story_id', 'title', 'chapters', \n",
    "                    'words', 'reviews', 'favorites', 'followers', 'date_published', 'date_updated', 'is_complete']\n",
    "story_df.rename(columns={'id':'story_id'}, inplace=True)\n",
    "print(story_df.shape)"
   ]
  },
  {
   "cell_type": "code",
   "execution_count": 4,
   "metadata": {
    "collapsed": false
   },
   "outputs": [],
   "source": [
    "stories = stories.merge(story_df[['story_id', 'date_updated', 'chapters']], on='story_id', how='left')"
   ]
  },
  {
   "cell_type": "code",
   "execution_count": 5,
   "metadata": {
    "collapsed": true
   },
   "outputs": [],
   "source": [
    "srr = stories.merge(reviews_received, on = ['author_id' ,'story_id'], how='left')"
   ]
  },
  {
   "cell_type": "code",
   "execution_count": 6,
   "metadata": {
    "collapsed": false
   },
   "outputs": [],
   "source": [
    "chapters['chapter_predicted_date_published_new'] = None\n",
    "chapters.rename(columns={'date_published':'chapter_predicted_date_published_old'}, inplace=True)"
   ]
  },
  {
   "cell_type": "code",
   "execution_count": 7,
   "metadata": {
    "collapsed": false
   },
   "outputs": [],
   "source": [
    "cbs = chapters.merge(stories[['story_id', 'fandom_id', 'date_published', 'is_complete',\n",
    "       'date_updated', 'chapters']], on='story_id')"
   ]
  },
  {
   "cell_type": "code",
   "execution_count": 8,
   "metadata": {
    "collapsed": false
   },
   "outputs": [],
   "source": [
    "# Rules\n",
    "# if # of chapter == 1 then date = date published \n",
    "# if # of chapter > 1\n",
    "#     then first chapter date = date published \n",
    "#     last chapter date = date updated - edge case if story not updated updated \n",
    "# "
   ]
  },
  {
   "cell_type": "code",
   "execution_count": 9,
   "metadata": {
    "collapsed": false
   },
   "outputs": [],
   "source": [
    "cbs.loc[(cbs['chapter_id'] == cbs['chapters']) \n",
    "       & (cbs['date_updated'] != -1) \n",
    "       & (cbs['chapter_id'] != 1), 'chapter_predicted_date_published_new'] = cbs['date_updated']\n",
    "cbs.loc[cbs['chapter_id'] == 1, 'chapter_predicted_date_published_new'] = cbs['date_published']\n"
   ]
  },
  {
   "cell_type": "code",
   "execution_count": 10,
   "metadata": {
    "collapsed": false
   },
   "outputs": [
    {
     "name": "stdout",
     "output_type": "stream",
     "text": [
      "Number of stories with more than one chapter and no update date = 3.0430385436565905 %\n"
     ]
    }
   ],
   "source": [
    "print('Number of stories with more than one chapter and no update date =', \n",
    "      (cbs[(cbs['chapters']==cbs['chapter_id']) & \n",
    "           (cbs['chapter_predicted_date_published_new'].isnull())]['story_id'].nunique())/len(stories)*100, '%')\n"
   ]
  },
  {
   "cell_type": "code",
   "execution_count": 11,
   "metadata": {
    "collapsed": false
   },
   "outputs": [],
   "source": [
    "min_review_date_per_chapter = reviews_received.groupby(['author_id', 'story_id', 'chapter_id'])['review_date'].min().reset_index()\n",
    "\n"
   ]
  },
  {
   "cell_type": "code",
   "execution_count": 12,
   "metadata": {
    "collapsed": true
   },
   "outputs": [],
   "source": [
    "cbs_v2 = cbs.merge(min_review_date_per_chapter, on=['author_id', 'story_id', 'chapter_id'], how='left')"
   ]
  },
  {
   "cell_type": "code",
   "execution_count": 13,
   "metadata": {
    "collapsed": true
   },
   "outputs": [],
   "source": [
    "cbs_v2['next_chapter_review_date'] = cbs_v2.groupby(['author_id', 'story_id'])['review_date'].shift(-1)\n",
    "cbs_v2['prev_chapter_review_date'] = cbs_v2.groupby(['author_id', 'story_id'])['review_date'].shift(1)\n"
   ]
  },
  {
   "cell_type": "code",
   "execution_count": 14,
   "metadata": {
    "collapsed": false
   },
   "outputs": [
    {
     "name": "stdout",
     "output_type": "stream",
     "text": [
      "Total number of stories updated after getting first review on the last chapter =  9.612315990560736 % Count =  4277 . Out of which 233 are stories with only one chapter.\n"
     ]
    }
   ],
   "source": [
    "len_of_updated = len(cbs_v2[(cbs_v2['chapter_id'] == cbs_v2['chapters']) \n",
    "       & (cbs_v2['date_updated'] != -1)\n",
    "       & (~cbs_v2['review_date'].isnull()) & (cbs_v2['review_date'] < cbs_v2['date_updated'])])\n",
    "\n",
    "len_of_updated_1 = len(cbs_v2[(cbs_v2['chapter_id'] == cbs_v2['chapters']) \n",
    "       & (cbs_v2['date_updated'] != -1) & (cbs['chapter_id'] == 1)\n",
    "       & (~cbs_v2['review_date'].isnull()) & (cbs_v2['review_date'] < cbs_v2['date_updated'])])\n",
    "\n",
    "print('Total number of stories updated after getting first review on the last chapter = ', \n",
    "     len_of_updated/len(stories)*100, '% Count = ', len_of_updated,'. Out of which', \n",
    "      len_of_updated_1, 'are stories with only one chapter.')"
   ]
  },
  {
   "cell_type": "code",
   "execution_count": 15,
   "metadata": {
    "collapsed": false
   },
   "outputs": [],
   "source": [
    "# if review date of first review is less than update date of the story then use first review date of the chapter \n",
    "cbs_v2.loc[((~cbs_v2['review_date'].isnull()) & \n",
    "            (cbs_v2['review_date'] <= cbs_v2['date_updated']) & \n",
    "            (((cbs_v2['review_date'] <= cbs_v2['next_chapter_review_date']) & \n",
    "             (cbs_v2['review_date'] >= cbs_v2['prev_chapter_review_date'])) | \n",
    "             ((cbs_v2['review_date'] <= cbs_v2['next_chapter_review_date']) & \n",
    "             (cbs_v2['prev_chapter_review_date']).isnull()) | \n",
    "             ((cbs_v2['review_date'] >= cbs_v2['prev_chapter_review_date']) & \n",
    "             (cbs_v2['next_chapter_review_date']).isnull()))), \n",
    "           'chapter_predicted_date_published_new'] = cbs_v2['review_date']\n"
   ]
  },
  {
   "cell_type": "code",
   "execution_count": 16,
   "metadata": {
    "collapsed": false
   },
   "outputs": [],
   "source": [
    "# cbs_v2[((cbs_v2['review_date'] <= cbs_v2['next_chapter_review_date']) & \n",
    "#         (cbs_v2['review_date'] >= cbs_v2['prev_chapter_review_date']))]"
   ]
  },
  {
   "cell_type": "code",
   "execution_count": 17,
   "metadata": {
    "collapsed": true
   },
   "outputs": [],
   "source": [
    "# if date updated is equal to -1 for a story that \n",
    "# implies that all the chapters were published at the same time so using date published for all the chapters \n",
    "cbs_v2.loc[((cbs_v2['date_updated'] == -1)), \n",
    "           'chapter_predicted_date_published_new'] = cbs_v2['date_published']"
   ]
  },
  {
   "cell_type": "code",
   "execution_count": 18,
   "metadata": {
    "collapsed": false
   },
   "outputs": [],
   "source": [
    "# number of chapters where the review date is less than story update date but \n",
    "# current chapter review date is either greater than next chapter first review date \n",
    "# or less than previous chapter first review date \n",
    "# cbs_v2[(cbs_v2['review_date'] <= cbs_v2['date_updated']) & \n",
    "#        ((cbs_v2['review_date'] > cbs_v2['next_chapter_review_date']) | \n",
    "#         (cbs_v2['review_date'] < cbs_v2['prev_chapter_review_date']))]"
   ]
  },
  {
   "cell_type": "code",
   "execution_count": 19,
   "metadata": {
    "collapsed": false
   },
   "outputs": [],
   "source": [
    "# cbs_v2[cbs_v2['chapter_predicted_date_published_new'].isnull()]\n",
    "# None of them are last chapters - n have no reviews and \n",
    "# m have reviews where the first review date on the chapter is greater than story update date "
   ]
  },
  {
   "cell_type": "code",
   "execution_count": 20,
   "metadata": {
    "collapsed": false
   },
   "outputs": [
    {
     "data": {
      "text/plain": [
       "0.16521400338081982"
      ]
     },
     "execution_count": 20,
     "metadata": {},
     "output_type": "execute_result"
    }
   ],
   "source": [
    "len(cbs_v2[cbs_v2['chapter_predicted_date_published_new'].isnull()])/len(cbs_v2)"
   ]
  },
  {
   "cell_type": "code",
   "execution_count": 21,
   "metadata": {
    "collapsed": false
   },
   "outputs": [],
   "source": [
    "cbs_v2.to_csv('chapters_prediction.csv')"
   ]
  }
 ],
 "metadata": {
  "kernelspec": {
   "display_name": "Python [default]",
   "language": "python",
   "name": "python3"
  },
  "language_info": {
   "codemirror_mode": {
    "name": "ipython",
    "version": 3
   },
   "file_extension": ".py",
   "mimetype": "text/x-python",
   "name": "python",
   "nbconvert_exporter": "python",
   "pygments_lexer": "ipython3",
   "version": "3.5.2"
  }
 },
 "nbformat": 4,
 "nbformat_minor": 2
}
